{
 "cells": [
  {
   "cell_type": "markdown",
   "id": "1060801f",
   "metadata": {},
   "source": [
    "데이터 사이언스 Toolkit   \n",
    "@ 2025-07-02"
   ]
  },
  {
   "cell_type": "markdown",
   "id": "f5793ac7",
   "metadata": {},
   "source": [
    "# 마크다운 샵 사용시 큰 글씨 및 귀속\n",
    "## 샵 2개\n",
    "### 샵 3개"
   ]
  },
  {
   "cell_type": "code",
   "execution_count": null,
   "id": "8dec865d",
   "metadata": {},
   "outputs": [],
   "source": []
  },
  {
   "cell_type": "code",
   "execution_count": null,
   "id": "6ae16f72",
   "metadata": {},
   "outputs": [],
   "source": []
  },
  {
   "cell_type": "markdown",
   "id": "b1575ebb",
   "metadata": {},
   "source": [
    "# 큰 글씨 테스트\n",
    "글자 사이 별표 **끼우기**"
   ]
  }
 ],
 "metadata": {
  "kernelspec": {
   "display_name": "drf_movie_env",
   "language": "python",
   "name": "python3"
  },
  "language_info": {
   "name": "python",
   "version": "3.12.11"
  }
 },
 "nbformat": 4,
 "nbformat_minor": 5
}
